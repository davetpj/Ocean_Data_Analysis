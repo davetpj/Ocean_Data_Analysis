{
 "cells": [
  {
   "cell_type": "markdown",
   "id": "3b25e966",
   "metadata": {},
   "source": [
    "# PCA"
   ]
  },
  {
   "cell_type": "code",
   "execution_count": 1,
   "id": "9901731a",
   "metadata": {
    "ExecuteTime": {
     "end_time": "2021-07-09T13:32:31.268733Z",
     "start_time": "2021-07-09T13:32:30.780009Z"
    }
   },
   "outputs": [],
   "source": [
    "import netCDF4 as nc\n",
    "import numpy as np\n",
    "from mpl_toolkits.basemap import Basemap\n",
    "import matplotlib.pyplot as plt"
   ]
  },
  {
   "cell_type": "code",
   "execution_count": 4,
   "id": "45a339cc",
   "metadata": {
    "ExecuteTime": {
     "end_time": "2021-07-09T13:32:42.815397Z",
     "start_time": "2021-07-09T13:32:42.809891Z"
    }
   },
   "outputs": [],
   "source": [
    "DATA_PATH = '../DATA/'\n",
    "data = nc.Dataset(DATA_PATH + '/T2m_ERA5_1979_2018_lowR.nc', 'r')"
   ]
  },
  {
   "cell_type": "code",
   "execution_count": 3,
   "id": "41e3b436",
   "metadata": {
    "ExecuteTime": {
     "end_time": "2021-07-09T13:32:40.339788Z",
     "start_time": "2021-07-09T13:32:40.330157Z"
    }
   },
   "outputs": [
    {
     "name": "stdout",
     "output_type": "stream",
     "text": [
      "lon = 경도(가로)\n",
      "lat = 위도\n",
      "time = 시간\n",
      "T2 = 평균온도\n"
     ]
    }
   ],
   "source": [
    "lon = data.variables['lon'][:] ## Lon\n",
    "lat = data.variables['lat'][:] ## Lat\n",
    "time = data.variables['time'][:] ## Time\n",
    "T2 = data.variables['t2m'][:,:,:] ## T2m data\n",
    "print(\"lon = 경도(가로)\\nlat = 위도\\ntime = 시간\\nT2 = 평균온도\")\n",
    "data.close()"
   ]
  },
  {
   "cell_type": "code",
   "execution_count": 5,
   "id": "39aadac4",
   "metadata": {
    "ExecuteTime": {
     "end_time": "2021-07-09T13:32:50.733621Z",
     "start_time": "2021-07-09T13:32:50.727394Z"
    }
   },
   "outputs": [
    {
     "name": "stdout",
     "output_type": "stream",
     "text": [
      "(60,) 열의 개념\n",
      "(30,) 행의 개념\n",
      "(40,) 1979~2018 층의개념\n",
      "(40, 30, 60) 72,000 총 관측 개수(array,행,열)\n"
     ]
    }
   ],
   "source": [
    "print(lon.shape,\"열의 개념\")\n",
    "print(lat.shape,\"행의 개념\")\n",
    "print(time.shape,\"1979~2018 층의개념\")\n",
    "print(T2.shape,\"72,000 총 관측 개수(array,행,열)\")"
   ]
  },
  {
   "cell_type": "markdown",
   "id": "f2389e46",
   "metadata": {
    "ExecuteTime": {
     "end_time": "2021-07-09T13:36:49.198139Z",
     "start_time": "2021-07-09T13:36:49.194628Z"
    }
   },
   "source": [
    "## eigenvalue & eigenvector\n",
    "\n",
    "#### Square matrix A 에 대하여 다음 식을 만족하는 zero vector 가 아닌 vectr v, 실수 ramda 를 찾을 수 있다고 가정.\n",
    "#### A*v = ramda*v\n",
    "#### ramda = eigenvalue\n",
    "#### ramda = eigenvector\n",
    "\n",
    "## 고유값과 고유벡터를 찾는 작업인 고유값분해 ( eigenvalue decomposition )"
   ]
  },
  {
   "cell_type": "markdown",
   "id": "0f2320d8",
   "metadata": {
    "ExecuteTime": {
     "end_time": "2021-07-09T13:37:28.035284Z",
     "start_time": "2021-07-09T13:37:27.784063Z"
    }
   },
   "source": [
    "##### v 에다가 A 를 곱해도 방향이 바뀌지 않고 크기만 바뀌는것이 고유벡터의 특성.\n",
    "##### 고유값 ramda 는 변환된 고유벡터와 원래 고유벡터 크기의 비율이다. 보통 고유값과 고유벡터를 찾을때는 고유값 분해를 이용한다.\n",
    "##### Av=rv\n",
    "##### Av-rv = (A-rI)v=0\n",
    "\n",
    "## 그럼 어떻게 구할까?\n",
    "![ex_screenshot](../img/example1.png)\n",
    "\n",
    "## 그러면 행렬이 주어졌을 때, 고유값-고유벡터를 어떻게 구할까?\n",
    "### 특성방정식 ( characteristic equation ) 의 해를 구해야 한다.\n",
    "##### Av-rv=(A-rI)v=0\n",
    "##### det(A-rI)=0 이 조건은 행렬 (A-rI)가 역행렬이 존재하지 않는다는 의미. 이렇게해서 r = -1 을 도출\n",
    "### 이 경우는 고유값이 1개밖에 없는 특별한 경우이며 2개일수도 있다. 그럴 경우 조금 더 디테일 하게 접근해야한다.\n",
    "### 따라서 특성방정식으로 정리하면 다음과 같다.\n",
    "![ex_screenshot](../img/example2.png)\n",
    "### 단위백터 형태가 좀더 일반적이다."
   ]
  },
  {
   "cell_type": "markdown",
   "id": "c3f6452b",
   "metadata": {},
   "source": [
    "# 실습"
   ]
  },
  {
   "cell_type": "code",
   "execution_count": 8,
   "id": "efb3356a",
   "metadata": {
    "ExecuteTime": {
     "end_time": "2021-07-09T13:41:45.306826Z",
     "start_time": "2021-07-09T13:41:45.300017Z"
    }
   },
   "outputs": [
    {
     "data": {
      "text/plain": [
       "array([[ 1, -2],\n",
       "       [ 2, -3]])"
      ]
     },
     "execution_count": 8,
     "metadata": {},
     "output_type": "execute_result"
    }
   ],
   "source": [
    "A = np.array([[1,-2],[2,-3]])\n",
    "A"
   ]
  },
  {
   "cell_type": "code",
   "execution_count": 9,
   "id": "5e819b1d",
   "metadata": {
    "ExecuteTime": {
     "end_time": "2021-07-09T13:41:49.755458Z",
     "start_time": "2021-07-09T13:41:49.747729Z"
    }
   },
   "outputs": [
    {
     "data": {
      "text/plain": [
       "(array([-0.99999998, -1.00000002]),\n",
       " array([[0.70710678, 0.70710678],\n",
       "        [0.70710678, 0.70710678]]))"
      ]
     },
     "execution_count": 9,
     "metadata": {},
     "output_type": "execute_result"
    }
   ],
   "source": [
    "np.linalg.eig(A)"
   ]
  },
  {
   "cell_type": "code",
   "execution_count": 10,
   "id": "41a4df09",
   "metadata": {
    "ExecuteTime": {
     "end_time": "2021-07-09T13:41:54.554727Z",
     "start_time": "2021-07-09T13:41:54.549467Z"
    }
   },
   "outputs": [],
   "source": [
    "lambda_1, v_1 = np.linalg.eig(A)"
   ]
  },
  {
   "cell_type": "code",
   "execution_count": 11,
   "id": "d49d9739",
   "metadata": {
    "ExecuteTime": {
     "end_time": "2021-07-09T13:42:01.451385Z",
     "start_time": "2021-07-09T13:42:01.445049Z"
    }
   },
   "outputs": [
    {
     "data": {
      "text/plain": [
       "array([-0.99999998, -1.00000002])"
      ]
     },
     "execution_count": 11,
     "metadata": {},
     "output_type": "execute_result"
    }
   ],
   "source": [
    "lambda_1"
   ]
  },
  {
   "cell_type": "code",
   "execution_count": 12,
   "id": "aa712f89",
   "metadata": {
    "ExecuteTime": {
     "end_time": "2021-07-09T13:42:06.608029Z",
     "start_time": "2021-07-09T13:42:06.602462Z"
    }
   },
   "outputs": [
    {
     "data": {
      "text/plain": [
       "array([[0.70710678, 0.70710678],\n",
       "       [0.70710678, 0.70710678]])"
      ]
     },
     "execution_count": 12,
     "metadata": {},
     "output_type": "execute_result"
    }
   ],
   "source": [
    "v_1"
   ]
  },
  {
   "cell_type": "markdown",
   "id": "149b8a90",
   "metadata": {},
   "source": [
    "# 주성분 분석 ( Principal Component Analysis, PCA )\n",
    "### 고차원 데이터 집합이 주어졌을 때, 원래의 고차원 데이터와 가장 비슷하면서 더 낮은 차원의 데이터를 찾아내는 방법.\n",
    "### 대표적인 차원축소( dimension reduction ) 방법 중 하나.\n",
    "\n",
    "![ex_screenshot](../img/example3.png)\n",
    "\n",
    "### 데이터의 분산을 최대한 보존 하면서, 서로 직교하는 새로운 기저(축)를 찾아, 고차원 공간의 샘플들을 저차원의 공간으로 변환.\n",
    "### 분산을 최대한 보존한다는 의미는?\n",
    "### 데이터들의 흩어진 정도가 가장 큰 경우인 방향벡터 v 를 주성분으로 찾는다는 의미.\n",
    "### 분산이 가장 큰 경우가 PC1 직교하는것이 PC2\n",
    "\n",
    "# PCA 의 정의\n",
    "### PCA 는 K개의 독립변수로 구성된 X 를 선형결합을 이용해 축소한다.( weighted averages )\n",
    "### 각 독립변수들의 n 개의 unit 들을 가지고 있으므로, .....\n",
    "\n",
    "### 행이 n 개 열이 K 개인 행렬 X 를 구성 가능.\n",
    "### y1 = Xa1  X 메트릭스에 a 벡터를 곱해서 y 를 구하는 거라고 생각하면 됨. \n",
    "\n",
    "# 그러면 a1 는 어떻게 구할까?\n",
    "\n",
    "### 정규화( Normalization ) 과 평균 중심화 ( mean centering ) 을 해야 한다.\n",
    "### 선형 결합의 정규화.\n",
    "### 행렬 X 에 평균 중심화.\n",
    "![ex_screenshot](../img/example4.png)\n",
    "\n",
    "# 평균을 빼주는 개념이 여기서 등장\n",
    "![ex_screenshot](../img/example5.png)\n",
    "\n",
    "# 여기서 a1 이 v1 ( 고유벡터 )\n",
    "\n",
    "### orthogonal 상관관계가 없다는 의미.\n",
    "\n",
    "## 벡터 a 들을 로딩 이라고 하고 그것이 고유벡터.\n",
    "## yij 를 스코어 라고 한다. ( 선형결합으로 나온 것 )\n",
    "\n",
    "# 공분산 행렬 ( Covariance Matrix ) 어떻게 구할까?\n",
    "## X 와 Y 의 분산을 구하면 (실제 관측값-기댓값)^2 의 기댓값.\n",
    "## 그러면 공분산 Cov(X,Y) 는 X와 Y 각각에 대한 관측값에서 그 각각의 기댓값을 빼 주고 곱한것(아래참조).\n",
    "\n",
    "![ex_screenshot](../img/example6.png)\n",
    "\n",
    "\n",
    "\n",
    "# 우리의 데이터의 경우\n",
    "\n",
    "![ex_screenshot](../img/example7.png)\n",
    "\n",
    "# 대각 행렬이 분산 상삼각 하삼각이 공분산부분 그래서 공분산 행렬은 1800X1800\n",
    "\n",
    "# 다시한번 고유값, 고유벡터 정리\n",
    "\n",
    "![ex_screenshot](../img/example8.png)\n",
    "\n",
    "## 공헌도가 PC1 가 몇 퍼센트냐 그런 부분임\n",
    "\n",
    "\n",
    "# 공분산행렬 C(1800,1800) 의 아이겐 벡터 E 를 구하면 (1800,1800 이 나온다.)\n",
    "# E 의 첫 열이 아이겐 벨류 r1 두번째 열이 r2 ...... 1800 번 째 열이 r1800\n",
    "\n",
    "# 따라서 Y(40, 1800) = X(40,1800) * E(1800,1800)\n",
    "# Y 의 첫번째 열이 E 의 PC1 을 토대로해서 X 를 곱하고 나온 것 Y값의 첫번째 Y1 score 이다.\n",
    "\n",
    "# 주성분분석 요약정리\n",
    "\n",
    "![ex_screenshot](../img/example9.png)\n",
    "\n",
    "\n",
    "1. 평균 중심화 (mean centering) 해야한다.\n",
    "2. 그 상태에서 pc1(v1) 을 구한다. \n",
    "3. 이때 그 분산의 크기가 r1\n",
    "4. 그다음 잘 설명하는 직교하는 PC2 를 구한다.\n",
    "\n",
    "# PC1 과 PC2 프로젝션 (3차원 데이터를 2차원 데이터로 차원 축소 후 살펴본다).\n",
    "\n",
    "![ex_screenshot](../img/example10.png)\n",
    "\n",
    "# X = 40(시간) * 1800(공간)  -> 이 X 를 통해 C 를 구하는것, 이를토대로 eigenvl eignevec 를 구하고 PC1 을 찾는다. 이렇게 분석하는것이 EOF 분석."
   ]
  },
  {
   "cell_type": "code",
   "execution_count": 13,
   "id": "d6c8305c",
   "metadata": {
    "ExecuteTime": {
     "end_time": "2021-07-09T13:46:15.705571Z",
     "start_time": "2021-07-09T13:46:15.697359Z"
    }
   },
   "outputs": [
    {
     "data": {
      "text/plain": [
       "masked_array(\n",
       "  data=[[228.51035, 228.1084 , 227.91245, ..., 230.61523, 229.86162,\n",
       "         229.14555],\n",
       "        [235.6998 , 234.14482, 232.92598, ..., 242.51596, 239.65938,\n",
       "         237.34123],\n",
       "        [234.32129, 233.7637 , 230.42593, ..., 252.92734, 247.52563,\n",
       "         239.55595],\n",
       "        ...,\n",
       "        [272.92023, 274.20264, 274.48615, ..., 264.4002 , 267.38165,\n",
       "         271.1935 ],\n",
       "        [263.57272, 265.01468, 266.00766, ..., 255.47832, 261.1138 ,\n",
       "         262.2783 ],\n",
       "        [259.89447, 259.99738, 260.09128, ..., 259.523  , 259.6492 ,\n",
       "         259.77002]],\n",
       "  mask=False,\n",
       "  fill_value=1e+20,\n",
       "  dtype=float32)"
      ]
     },
     "execution_count": 13,
     "metadata": {},
     "output_type": "execute_result"
    }
   ],
   "source": [
    "T2_mean = np.mean(T2, 0)\n",
    "T2_mean"
   ]
  },
  {
   "cell_type": "code",
   "execution_count": 14,
   "id": "cacb1aa6",
   "metadata": {
    "ExecuteTime": {
     "end_time": "2021-07-09T13:47:10.931655Z",
     "start_time": "2021-07-09T13:47:10.926318Z"
    }
   },
   "outputs": [
    {
     "name": "stdout",
     "output_type": "stream",
     "text": [
      "평균 중심화(mean centering)하는 부분. 1800개 spot의 40년치 1800개 평균을 구함. 즉 온도데이터를 한점에 압축시켜논 의미, 시간차원축소 없앤다 .\n"
     ]
    },
    {
     "data": {
      "text/plain": [
       "(30, 60)"
      ]
     },
     "execution_count": 14,
     "metadata": {},
     "output_type": "execute_result"
    }
   ],
   "source": [
    "print(\"평균 중심화(mean centering)하는 부분. 1800개 spot의 40년치 1800개 평균을 구함. 즉 온도데이터를 한점에 압축시켜논 의미, 시간차원축소 없앤다 .\")\n",
    "T2_mean.shape"
   ]
  },
  {
   "cell_type": "code",
   "execution_count": 15,
   "id": "a3f90251",
   "metadata": {
    "ExecuteTime": {
     "end_time": "2021-07-09T13:47:28.437885Z",
     "start_time": "2021-07-09T13:47:28.430344Z"
    }
   },
   "outputs": [
    {
     "data": {
      "text/plain": [
       "(40, 30, 60)"
      ]
     },
     "execution_count": 15,
     "metadata": {},
     "output_type": "execute_result"
    }
   ],
   "source": [
    "T2.shape"
   ]
  },
  {
   "cell_type": "code",
   "execution_count": 16,
   "id": "0ba4c04f",
   "metadata": {
    "ExecuteTime": {
     "end_time": "2021-07-09T13:47:59.841787Z",
     "start_time": "2021-07-09T13:47:59.834762Z"
    }
   },
   "outputs": [
    {
     "name": "stdout",
     "output_type": "stream",
     "text": [
      "이부분이 mean centering 결국 T2a 가 X matrix\n"
     ]
    },
    {
     "data": {
      "text/plain": [
       "(40, 30, 60)"
      ]
     },
     "execution_count": 16,
     "metadata": {},
     "output_type": "execute_result"
    }
   ],
   "source": [
    "print(\"이부분이 mean centering 결국 T2a 가 X matrix\")\n",
    "T2a = np.array(T2-T2_mean)\n",
    "T2a.shape"
   ]
  },
  {
   "cell_type": "markdown",
   "id": "159c0225",
   "metadata": {},
   "source": [
    "### 모든 값에서 평균을 빼준 것을 펼친것\n",
    "### 결국 위도 경도 2차원 데이터를 1800 길이의 1차원 데이터로 펼친것 그것을 시간에 따라 나열한것"
   ]
  },
  {
   "cell_type": "code",
   "execution_count": 17,
   "id": "3b8e1881",
   "metadata": {
    "ExecuteTime": {
     "end_time": "2021-07-09T13:48:59.907378Z",
     "start_time": "2021-07-09T13:48:59.901589Z"
    }
   },
   "outputs": [
    {
     "data": {
      "text/plain": [
       "(40, 1800)"
      ]
     },
     "execution_count": 17,
     "metadata": {},
     "output_type": "execute_result"
    }
   ],
   "source": [
    "T2a_1d = np.reshape(T2a,(len(time), len(lon)*len(lat)))\n",
    "T2a_1d.shape"
   ]
  },
  {
   "cell_type": "markdown",
   "id": "7e5a18df",
   "metadata": {
    "ExecuteTime": {
     "end_time": "2021-07-09T13:49:05.954215Z",
     "start_time": "2021-07-09T13:49:05.951181Z"
    }
   },
   "source": [
    "# 분산 공분산 구하기 matmul ( Matrix multipication)\n",
    "##### 밑부분은 이제 기댓값이 0 이기 때문에  제곱 부분만 진행 하고 전체 갯수인 n 으로 나눠준것임. 그러면 공분산 C 행렬이 구해짐"
   ]
  },
  {
   "cell_type": "code",
   "execution_count": 19,
   "id": "50a67c4f",
   "metadata": {
    "ExecuteTime": {
     "end_time": "2021-07-09T13:49:14.919358Z",
     "start_time": "2021-07-09T13:49:14.880774Z"
    }
   },
   "outputs": [
    {
     "name": "stdout",
     "output_type": "stream",
     "text": [
      "(1800, 40) (40, 1800)\n",
      "(1800, 1800)\n",
      "[[False False False ... False False False]\n",
      " [False False False ... False False False]\n",
      " [False False False ... False False False]\n",
      " ...\n",
      " [False False False ... False False False]\n",
      " [False False False ... False False False]\n",
      " [False False False ... False False False]]\n"
     ]
    }
   ],
   "source": [
    "cov_T2a_1d=np.matmul(T2a_1d.T, T2a_1d)/len(time)\n",
    "cov_T2a_1d.shape\n",
    "\n",
    "print(T2a_1d.T.shape,T2a_1d.shape)\n",
    "print((cov_T2a_1d).shape)\n",
    "print((np.matmul(T2a_1d.T, T2a_1d)) == cov_T2a_1d)"
   ]
  },
  {
   "cell_type": "markdown",
   "id": "4f530fcd",
   "metadata": {},
   "source": [
    "# Retrieving eigenvaluese & eigenvectors"
   ]
  },
  {
   "cell_type": "code",
   "execution_count": 20,
   "id": "65a9287e",
   "metadata": {
    "ExecuteTime": {
     "end_time": "2021-07-09T13:49:32.324898Z",
     "start_time": "2021-07-09T13:49:28.693132Z"
    }
   },
   "outputs": [],
   "source": [
    "eigen_val, eigen_vec = np.linalg.eig(cov_T2a_1d)"
   ]
  },
  {
   "cell_type": "code",
   "execution_count": 21,
   "id": "20f50137",
   "metadata": {
    "ExecuteTime": {
     "end_time": "2021-07-09T13:49:33.106202Z",
     "start_time": "2021-07-09T13:49:33.102581Z"
    }
   },
   "outputs": [
    {
     "data": {
      "text/plain": [
       "(1800,)"
      ]
     },
     "execution_count": 21,
     "metadata": {},
     "output_type": "execute_result"
    }
   ],
   "source": [
    "eigen_val.shape"
   ]
  },
  {
   "cell_type": "code",
   "execution_count": 22,
   "id": "58d3e2ea",
   "metadata": {
    "ExecuteTime": {
     "end_time": "2021-07-09T13:49:37.884387Z",
     "start_time": "2021-07-09T13:49:37.879057Z"
    }
   },
   "outputs": [
    {
     "data": {
      "text/plain": [
       "(1800, 1800)"
      ]
     },
     "execution_count": 22,
     "metadata": {},
     "output_type": "execute_result"
    }
   ],
   "source": [
    "eigen_vec.shape"
   ]
  },
  {
   "cell_type": "markdown",
   "id": "91077c79",
   "metadata": {},
   "source": [
    "# Variance fraction (Eigen value = real part + imaginary part (=0)) 공헌도"
   ]
  },
  {
   "cell_type": "code",
   "execution_count": 23,
   "id": "104a5001",
   "metadata": {
    "ExecuteTime": {
     "end_time": "2021-07-09T13:50:03.122810Z",
     "start_time": "2021-07-09T13:50:03.118344Z"
    }
   },
   "outputs": [
    {
     "data": {
      "text/plain": [
       "array([ 3.5285237e-01,  7.8903191e-02,  7.1158513e-02, ...,\n",
       "        7.4918483e-12,  5.0081714e-12, -4.4252609e-12], dtype=float32)"
      ]
     },
     "execution_count": 23,
     "metadata": {},
     "output_type": "execute_result"
    }
   ],
   "source": [
    "efrac = eigen_val.real / np.sum(eigen_val.real)\n",
    "efrac"
   ]
  },
  {
   "cell_type": "markdown",
   "id": "54f56525",
   "metadata": {},
   "source": [
    "# PC Time-series"
   ]
  },
  {
   "cell_type": "code",
   "execution_count": 24,
   "id": "7f5fe98f",
   "metadata": {
    "ExecuteTime": {
     "end_time": "2021-07-09T13:50:08.850693Z",
     "start_time": "2021-07-09T13:50:08.839572Z"
    }
   },
   "outputs": [
    {
     "data": {
      "text/plain": [
       "(40, 1800)"
      ]
     },
     "execution_count": 24,
     "metadata": {},
     "output_type": "execute_result"
    }
   ],
   "source": [
    "Y = np.dot(T2a_1d, eigen_vec)\n",
    "Y.shape"
   ]
  },
  {
   "cell_type": "code",
   "execution_count": 25,
   "id": "db528db3",
   "metadata": {
    "ExecuteTime": {
     "end_time": "2021-07-09T13:50:15.263389Z",
     "start_time": "2021-07-09T13:50:15.183736Z"
    }
   },
   "outputs": [
    {
     "name": "stdout",
     "output_type": "stream",
     "text": [
      "(40, 1800) (1800, 1800)\n",
      "(40, 1800)\n",
      "(1800, 40)\n",
      "False\n"
     ]
    }
   ],
   "source": [
    "print(T2a_1d.shape,eigen_vec.shape)\n",
    "print(np.matmul(T2a_1d,eigen_vec).shape)\n",
    "print(np.matmul(eigen_vec,T2a_1d.T).shape)\n",
    "print(np.matmul(np.dot(T2a_1d.T,T2a_1d),eigen_vec) is np.matmul(eigen_val,eigen_vec))"
   ]
  },
  {
   "cell_type": "markdown",
   "id": "0e93bd44",
   "metadata": {},
   "source": [
    "# Primary Modes ( PC1 )"
   ]
  },
  {
   "cell_type": "code",
   "execution_count": 26,
   "id": "261da790",
   "metadata": {
    "ExecuteTime": {
     "end_time": "2021-07-09T13:50:36.508113Z",
     "start_time": "2021-07-09T13:50:36.504472Z"
    }
   },
   "outputs": [],
   "source": [
    "MODE = 1"
   ]
  },
  {
   "cell_type": "markdown",
   "id": "2f93ef47",
   "metadata": {},
   "source": [
    "# EOF First mode \n",
    "# 가장 관심이 있는 PC1 만 살펴보기 위해 eigenvector의첫번째 열만 가져온다.\n",
    "# 그것을 EOF 에 저장"
   ]
  },
  {
   "cell_type": "code",
   "execution_count": 27,
   "id": "5ba64685",
   "metadata": {
    "ExecuteTime": {
     "end_time": "2021-07-09T13:51:56.175750Z",
     "start_time": "2021-07-09T13:51:56.169732Z"
    }
   },
   "outputs": [
    {
     "name": "stdout",
     "output_type": "stream",
     "text": [
      "(1800,) 30 60\n"
     ]
    },
    {
     "data": {
      "text/plain": [
       "(30, 60)"
      ]
     },
     "execution_count": 27,
     "metadata": {},
     "output_type": "execute_result"
    }
   ],
   "source": [
    "EOF = np.reshape(eigen_vec[:,MODE-1],(len(lat),len(lon)))\n",
    "print(eigen_vec[:,MODE-1].shape, len(lat),len(lon))\n",
    "EOF.shape"
   ]
  },
  {
   "cell_type": "code",
   "execution_count": 28,
   "id": "03a8277f",
   "metadata": {
    "ExecuteTime": {
     "end_time": "2021-07-09T13:52:00.345869Z",
     "start_time": "2021-07-09T13:52:00.340596Z"
    }
   },
   "outputs": [
    {
     "data": {
      "text/plain": [
       "(40,)"
      ]
     },
     "execution_count": 28,
     "metadata": {},
     "output_type": "execute_result"
    }
   ],
   "source": [
    "Y1 = Y[:,MODE-1]\n",
    "Y1.shape"
   ]
  },
  {
   "cell_type": "code",
   "execution_count": 29,
   "id": "f8af4b71",
   "metadata": {
    "ExecuteTime": {
     "end_time": "2021-07-09T13:52:04.356677Z",
     "start_time": "2021-07-09T13:52:04.350850Z"
    }
   },
   "outputs": [
    {
     "data": {
      "text/plain": [
       "35.285237431526184"
      ]
     },
     "execution_count": 29,
     "metadata": {},
     "output_type": "execute_result"
    }
   ],
   "source": [
    "efrac1 = efrac[MODE-1] * 100\n",
    "efrac1"
   ]
  },
  {
   "cell_type": "markdown",
   "id": "460bccc0",
   "metadata": {
    "ExecuteTime": {
     "end_time": "2021-07-09T13:52:09.752972Z",
     "start_time": "2021-07-09T13:52:09.749041Z"
    }
   },
   "source": [
    "# Normalization"
   ]
  },
  {
   "cell_type": "code",
   "execution_count": 31,
   "id": "08811cc2",
   "metadata": {
    "ExecuteTime": {
     "end_time": "2021-07-09T13:52:34.674413Z",
     "start_time": "2021-07-09T13:52:34.670076Z"
    }
   },
   "outputs": [],
   "source": [
    "n_eigen_vec = -EOF * np.sqrt(eigen_val[MODE-1])"
   ]
  },
  {
   "cell_type": "markdown",
   "id": "e1263d2c",
   "metadata": {},
   "source": [
    "# Dimensionless PC Time-series & Normalization\n",
    "\n",
    "## y score 값을 정리해서 update\n",
    "# 평균을 빼주고 표준편차로 나눠줘서 표준화 시켜줌  "
   ]
  },
  {
   "cell_type": "code",
   "execution_count": 32,
   "id": "db146031",
   "metadata": {
    "ExecuteTime": {
     "end_time": "2021-07-09T13:52:39.552846Z",
     "start_time": "2021-07-09T13:52:39.547322Z"
    }
   },
   "outputs": [
    {
     "name": "stdout",
     "output_type": "stream",
     "text": [
      "(30, 60) (40,) (40,)\n"
     ]
    }
   ],
   "source": [
    "dY = Y1 / np.sqrt(eigen_val[MODE-1])\n",
    "n_Y = -(dY - np.mean(dY)) / np.std(dY)\n",
    "print(n_eigen_vec.shape, dY.shape, n_Y.shape)"
   ]
  },
  {
   "cell_type": "code",
   "execution_count": null,
   "id": "fe603386",
   "metadata": {},
   "outputs": [],
   "source": []
  }
 ],
 "metadata": {
  "kernelspec": {
   "display_name": "Python 3 (ipykernel)",
   "language": "python",
   "name": "python3"
  },
  "language_info": {
   "codemirror_mode": {
    "name": "ipython",
    "version": 3
   },
   "file_extension": ".py",
   "mimetype": "text/x-python",
   "name": "python",
   "nbconvert_exporter": "python",
   "pygments_lexer": "ipython3",
   "version": "3.8.0"
  },
  "varInspector": {
   "cols": {
    "lenName": 16,
    "lenType": 16,
    "lenVar": 40
   },
   "kernels_config": {
    "python": {
     "delete_cmd_postfix": "",
     "delete_cmd_prefix": "del ",
     "library": "var_list.py",
     "varRefreshCmd": "print(var_dic_list())"
    },
    "r": {
     "delete_cmd_postfix": ") ",
     "delete_cmd_prefix": "rm(",
     "library": "var_list.r",
     "varRefreshCmd": "cat(var_dic_list()) "
    }
   },
   "types_to_exclude": [
    "module",
    "function",
    "builtin_function_or_method",
    "instance",
    "_Feature"
   ],
   "window_display": false
  }
 },
 "nbformat": 4,
 "nbformat_minor": 5
}
